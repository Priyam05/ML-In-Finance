{
 "cells": [
  {
   "cell_type": "markdown",
   "metadata": {},
   "source": [
    "## Modeling of bank failures by FDIC \n"
   ]
  },
  {
   "cell_type": "markdown",
   "metadata": {},
   "source": [
    "\n",
    "In this assignment you will be using:\n",
    "- Decision Trees\n",
    "- Random Forests\n",
    "- Boosted Trees\n",
    "\n",
    "All in the context of classification problem as applied to bank defaults data set.\n",
    "Let's get started!"
   ]
  },
  {
   "cell_type": "markdown",
   "metadata": {},
   "source": [
    "## About iPython Notebooks ##\n",
    "\n",
    "iPython Notebooks are interactive coding environments embedded in a webpage. You will be using iPython notebooks in this class. You only need to write code between the ### START CODE HERE ### and ### END CODE HERE ### comments. After writing your code, you can run the cell by either pressing \"SHIFT\"+\"ENTER\" or by clicking on \"Run Cell\" (denoted by a play symbol) in the upper bar of the notebook. \n",
    "\n",
    "We will often specify \"(≈ X lines of code)\" in the comments to tell you about how much code you need to write. It is just a rough estimate, so don't feel bad if your code is longer or shorter."
   ]
  },
  {
   "cell_type": "code",
   "execution_count": 1,
   "metadata": {
    "collapsed": true
   },
   "outputs": [],
   "source": [
    "import pandas as pd\n",
    "import numpy as np\n",
    "import time\n",
    "\n",
    "import os\n",
    "import functools\n",
    "import math\n",
    "import random\n",
    "import sys, getopt\n",
    "\n",
    "sys.path.append(\"..\")\n",
    "import grading\n",
    "\n",
    "try:\n",
    "    import matplotlib.pyplot as plt\n",
    "    %matplotlib inline\n",
    "except:\n",
    "    pass"
   ]
  },
  {
   "cell_type": "code",
   "execution_count": null,
   "metadata": {
    "collapsed": true
   },
   "outputs": [],
   "source": [
    "### ONLY FOR GRADING. DO NOT EDIT ###\n",
    "submissions=dict()\n",
    "assignment_key=\"HnqO7_GcEeeQcBJXIhP2bA\" \n",
    "all_parts=[\"Pb9kd\", \"ZdjyW\", \"IfVpy\",\"Tifr3\",\"X8djk\"]\n",
    "### ONLY FOR GRADING. DO NOT EDIT ###"
   ]
  },
  {
   "cell_type": "code",
   "execution_count": null,
   "metadata": {
    "collapsed": true
   },
   "outputs": [],
   "source": [
    "# COURSERA_TOKEN = # the key provided to the Student under his/her email on submission page\n",
    "# COURSERA_EMAIL = # the email\n",
    "COURSERA_TOKEN=\" \"\n",
    "COURSERA_EMAIL=\" \""
   ]
  },
  {
   "cell_type": "code",
   "execution_count": 2,
   "metadata": {
    "collapsed": true
   },
   "outputs": [],
   "source": [
    "# common cell - share this across notebooks\n",
    "state_cols = ['log_TA','NI_to_TA', 'Equity_to_TA', 'NPL_to_TL', 'REO_to_TA', \n",
    "              'ALLL_to_TL', 'core_deposits_to_TA', 'brokered_deposits_to_TA', \n",
    "              'liquid_assets_to_TA', 'loss_provision_to_TL', \n",
    "              'ROA', \n",
    "              'NIM', 'assets_growth']\n",
    "\n",
    "# Macro Economic Variables (MEVs)\n",
    "all_MEVs = np.array(['term_spread',\n",
    "                    'stock_mkt_growth',\n",
    "                    'real_gdp_growth',\n",
    "                    'unemployment_rate_change',\n",
    "                    'treasury_yield_3m',\n",
    "                    'bbb_spread',\n",
    "                    'bbb_spread_change'])\n",
    "\n",
    "MEV_cols = all_MEVs.tolist()\n",
    "\n",
    "next_state_cols = ['log_TA_plus_1Q','NI_to_TA_plus_1Q', 'Equity_to_TA_plus_1Q', 'NPL_to_TL_plus_1Q', 'REO_to_TA_plus_1Q', \n",
    "                   'ALLL_to_TL_plus_1Q', 'core_deposits_to_TA_plus_1Q', 'brokered_deposits_to_TA_plus_1Q', \n",
    "                   'liquid_assets_to_TA_plus_1Q', 'loss_provision_to_TL_plus_1Q', \n",
    "                   'ROA_plus_1Q', \n",
    "                   'NIM_plus_1Q', \n",
    "                   'assets_growth_plus_1Q', \n",
    "                   'FDIC_assessment_base_plus_1Q_n']\n"
   ]
  },
  {
   "cell_type": "code",
   "execution_count": 3,
   "metadata": {},
   "outputs": [
    {
     "name": "stdout",
     "output_type": "stream",
     "text": [
      "Number of unique dates on which defaulted within 1-st year 39\n",
      "Number of unique banks defaulted within 1-st year 472\n"
     ]
    }
   ],
   "source": [
    "df_train = pd.read_hdf(os.getcwd() + '/data/df_train_FDIC_defaults_1Y.h5', key='df')\n",
    "df_test = pd.read_hdf(os.getcwd() + '/data/df_test_FDIC_defaults_1Y.h5', key='df')\n",
    "df_data = pd.read_hdf(os.getcwd() + '/data/data_adj_FDIC_small.h5', key='df')\n",
    "df_closure_learn = pd.read_hdf(os.getcwd() + '/data/df_FDIC_learn.h5', key='df')\n",
    "\n",
    "df_all_defaulters_in_1Y = df_closure_learn[df_closure_learn.defaulter == 1].reset_index().groupby('IDRSSD').apply(lambda g: g.iloc[len(g)-3])\n",
    "selected_dates = df_all_defaulters_in_1Y.date.unique()\n",
    "defaulted_banks = df_all_defaulters_in_1Y['IDRSSD'].unique()\n",
    "print('Number of unique dates on which defaulted within 1-st year %d'  % len(selected_dates))\n",
    "print('Number of unique banks defaulted within 1-st year %d' % len(defaulted_banks))\n",
    "\n",
    "# failure dates\n",
    "# df_data[df_data['Failure / Assistance '].notnull()].date.value_counts()"
   ]
  },
  {
   "cell_type": "code",
   "execution_count": 4,
   "metadata": {
    "collapsed": true
   },
   "outputs": [],
   "source": [
    "# function for a flexible way to make the train and test sets\n",
    "def make_train_and_test(df_in, perc_train=66.0, split_by_IDRSSD=True):\n",
    "    \n",
    "    reset_index_flag=False\n",
    "    df = df_in.copy()\n",
    "    if 'IDRSSD' in df.index.names:\n",
    "        reset_index_flag = True\n",
    "        df.reset_index(inplace=True)\n",
    "    \n",
    "    len_df = len(df)\n",
    "    len_df_train = int(np.floor(0.01*perc_train*len_df))\n",
    "    \n",
    "    if split_by_IDRSSD == True:\n",
    "        # split by names\n",
    "        unique_IDRSSD = df.IDRSSD.unique()\n",
    "        num_unique_IDRSSD = len(unique_IDRSSD)\n",
    "        num_IDRSSD_train = int(np.floor(0.01*perc_train*num_unique_IDRSSD))\n",
    "        \n",
    "        # re-shuffle the list of IDRSSD\n",
    "        np.random.shuffle(unique_IDRSSD)\n",
    "        IDRSSD_train = unique_IDRSSD[0:num_IDRSSD_train]\n",
    "        IDRSSD_test = unique_IDRSSD[num_IDRSSD_train:]\n",
    "        \n",
    "        df_train = df[np.in1d(df.IDRSSD, IDRSSD_train)].copy()\n",
    "        df_test = df[np.in1d(df.IDRSSD, IDRSSD_test)].copy()\n",
    "        \n",
    "    elif split_by_IDRSSD == False:\n",
    "        # split by rows\n",
    "    \n",
    "        idx = np.arange(len_df)\n",
    "        np.random.shuffle(idx)\n",
    "        df_train = df.ix[idx[0:len_df_train]]\n",
    "        df_test = df.ix[idx[len_df_train:]]\n",
    "\n",
    "    return df_train, df_test   "
   ]
  },
  {
   "cell_type": "markdown",
   "metadata": {},
   "source": [
    "### Visualize binary classification data"
   ]
  },
  {
   "cell_type": "code",
   "execution_count": 5,
   "metadata": {},
   "outputs": [
    {
     "data": {
      "text/plain": [
       "<matplotlib.axes._subplots.AxesSubplot at 0x7f4cc5406048>"
      ]
     },
     "execution_count": 5,
     "metadata": {},
     "output_type": "execute_result"
    },
    {
     "data": {
      "image/png": "[encoded data removed]",
      "text/plain": [
       "<matplotlib.figure.Figure at 0x7f4caf87e438>"
      ]
     },
     "metadata": {},
     "output_type": "display_data"
    }
   ],
   "source": [
    "df_test.plot(x=state_cols[0], y='defaulter', kind='scatter')"
   ]
  },
  {
   "cell_type": "code",
   "execution_count": 6,
   "metadata": {},
   "outputs": [
    {
     "data": {
      "image/png": "[encoded data removed]",
      "text/plain": [
       "<matplotlib.figure.Figure at 0x7f4cb4cce8d0>"
      ]
     },
     "metadata": {},
     "output_type": "display_data"
    }
   ],
   "source": [
    "# Plot 4 scatter plots together\n",
    "\n",
    "# log_TA / NI_to_TA\n",
    "# log_TA / NPL_to_TL\n",
    "# log_TA / Equity_to_TA\n",
    "# log_TA / ROA\n",
    "\n",
    "first_indx = [0, 0, 0, 0]\n",
    "second_indx = [1, 3, 2, 10]\n",
    "\n",
    "X_train = df_train[state_cols].values\n",
    "y_train = df_train.defaulter.values # .reshape(-1,1)\n",
    "\n",
    "num_plots = 4\n",
    "if num_plots % 2 == 0:\n",
    "    f, axs = plt.subplots(num_plots // 2, 2)\n",
    "else:\n",
    "    f, axs = plt.subplots(num_plots// 2 + 1, 2)\n",
    "    \n",
    "f.subplots_adjust(hspace=.3)\n",
    "f.set_figheight(10.0)\n",
    "f.set_figwidth(10.0)\n",
    "    \n",
    "for i in range(num_plots):\n",
    "    if i % 2 == 0:\n",
    "        first_idx = i // 2\n",
    "        second_idx = 0\n",
    "    else:\n",
    "        first_idx = i // 2\n",
    "        second_idx = 1\n",
    "        \n",
    "    axs[first_idx,second_idx].plot(X_train[y_train == 1.0, first_indx[i]], \n",
    "                                   X_train[y_train == 1.0, second_indx[i]], 'r^', label=\"Failed\")\n",
    "    axs[first_idx,second_idx].plot(X_train[y_train == 0.0, first_indx[i]], \n",
    "                                   X_train[y_train == 0.0, second_indx[i]], 'go', label=\"Non-failed\") \n",
    "    \n",
    "    axs[first_idx, second_idx].legend()\n",
    "    axs[first_idx, second_idx].set_xlabel('%s' % state_cols[first_indx[i]])\n",
    "    axs[first_idx, second_idx].set_ylabel('%s' % state_cols[second_indx[i]])\n",
    "    axs[first_idx, second_idx].set_title('Failed banks vs non-failed banks')\n",
    "    axs[first_idx, second_idx].grid(True) \n",
    "    \n",
    "if num_plots % 2 != 0:\n",
    "    f.delaxes(axs[i // 2, 1])\n",
    "    \n",
    "# plt.savefig('Failed_vs_nonfailed_rr_plot.png')"
   ]
  },
  {
   "cell_type": "code",
   "execution_count": 7,
   "metadata": {},
   "outputs": [
    {
     "data": {
      "text/plain": [
       "['log_TA',\n",
       " 'NI_to_TA',\n",
       " 'Equity_to_TA',\n",
       " 'NPL_to_TL',\n",
       " 'REO_to_TA',\n",
       " 'ALLL_to_TL',\n",
       " 'core_deposits_to_TA',\n",
       " 'brokered_deposits_to_TA',\n",
       " 'liquid_assets_to_TA',\n",
       " 'loss_provision_to_TL',\n",
       " 'ROA',\n",
       " 'NIM',\n",
       " 'assets_growth']"
      ]
     },
     "execution_count": 7,
     "metadata": {},
     "output_type": "execute_result"
    }
   ],
   "source": [
    "state_cols"
   ]
  },
  {
   "cell_type": "code",
   "execution_count": 8,
   "metadata": {},
   "outputs": [
    {
     "name": "stdout",
     "output_type": "stream",
     "text": [
      "['log_TA', 'NI_to_TA', 'Equity_to_TA', 'NPL_to_TL', 'REO_to_TA', 'ALLL_to_TL', 'core_deposits_to_TA', 'brokered_deposits_to_TA', 'liquid_assets_to_TA', 'loss_provision_to_TL', 'NIM', 'assets_growth']\n",
      "Len state_cols =  12\n"
     ]
    }
   ],
   "source": [
    "# Column 'ROA' is redundant, it is the same as NI_to_TA, so remove it\n",
    "state_cols = [c for c in state_cols if c != 'ROA']\n",
    "\n",
    "print(state_cols)\n",
    "print('Len state_cols = ', len(state_cols)) "
   ]
  },
  {
   "cell_type": "code",
   "execution_count": 9,
   "metadata": {
    "collapsed": true
   },
   "outputs": [],
   "source": [
    "# make the train and test datasets\n",
    "choice = 0  # selection of predictors. Add tangible equity and assessment base as predictors\n",
    "predict_within_1Y = False # True\n",
    "\n",
    "if choice == -1: # only state cols\n",
    "    cols = state_cols \n",
    "elif choice == 0:  # original variables\n",
    "    cols = state_cols + MEV_cols \n",
    "\n",
    "trX = df_train[cols].values\n",
    "teX = df_test[cols].values\n",
    "num_features = len(cols)    \n",
    "\n",
    "if predict_within_1Y == True:\n",
    "    trY = df_train[['default_within_1Y','no_default_within_1Y']].values\n",
    "    teY = df_test[['default_within_1Y','no_default_within_1Y']].values\n",
    "else:\n",
    "    trY = df_train[['defaulter','non_defaulter']].values\n",
    "    teY = df_test[['defaulter','non_defaulter']].values\n",
    "\n",
    "num_classes = 2\n",
    "num_components = len(cols)"
   ]
  },
  {
   "cell_type": "code",
   "execution_count": 10,
   "metadata": {},
   "outputs": [
    {
     "data": {
      "text/html": [
       "<div>\n",
       "<table border=\"1\" class=\"dataframe\">\n",
       "  <thead>\n",
       "    <tr style=\"text-align: right;\">\n",
       "      <th></th>\n",
       "      <th>term_spread</th>\n",
       "      <th>stock_mkt_growth</th>\n",
       "      <th>real_gdp_growth</th>\n",
       "      <th>unemployment_rate_change</th>\n",
       "      <th>treasury_yield_3m</th>\n",
       "      <th>bbb_spread</th>\n",
       "      <th>bbb_spread_change</th>\n",
       "    </tr>\n",
       "  </thead>\n",
       "  <tbody>\n",
       "    <tr>\n",
       "      <th>term_spread</th>\n",
       "      <td>1.000000</td>\n",
       "      <td>0.002993</td>\n",
       "      <td>-0.145941</td>\n",
       "      <td>0.299972</td>\n",
       "      <td>-0.633991</td>\n",
       "      <td>0.392349</td>\n",
       "      <td>-0.465767</td>\n",
       "    </tr>\n",
       "    <tr>\n",
       "      <th>stock_mkt_growth</th>\n",
       "      <td>0.002993</td>\n",
       "      <td>1.000000</td>\n",
       "      <td>-0.148941</td>\n",
       "      <td>0.461947</td>\n",
       "      <td>-0.081915</td>\n",
       "      <td>0.417379</td>\n",
       "      <td>-0.762702</td>\n",
       "    </tr>\n",
       "    <tr>\n",
       "      <th>real_gdp_growth</th>\n",
       "      <td>-0.145941</td>\n",
       "      <td>-0.148941</td>\n",
       "      <td>1.000000</td>\n",
       "      <td>-0.825802</td>\n",
       "      <td>0.041596</td>\n",
       "      <td>-0.820518</td>\n",
       "      <td>0.385007</td>\n",
       "    </tr>\n",
       "    <tr>\n",
       "      <th>unemployment_rate_change</th>\n",
       "      <td>0.299972</td>\n",
       "      <td>0.461947</td>\n",
       "      <td>-0.825802</td>\n",
       "      <td>1.000000</td>\n",
       "      <td>0.034355</td>\n",
       "      <td>0.881223</td>\n",
       "      <td>-0.657093</td>\n",
       "    </tr>\n",
       "    <tr>\n",
       "      <th>treasury_yield_3m</th>\n",
       "      <td>-0.633991</td>\n",
       "      <td>-0.081915</td>\n",
       "      <td>0.041596</td>\n",
       "      <td>0.034355</td>\n",
       "      <td>1.000000</td>\n",
       "      <td>-0.272072</td>\n",
       "      <td>0.290414</td>\n",
       "    </tr>\n",
       "    <tr>\n",
       "      <th>bbb_spread</th>\n",
       "      <td>0.392349</td>\n",
       "      <td>0.417379</td>\n",
       "      <td>-0.820518</td>\n",
       "      <td>0.881223</td>\n",
       "      <td>-0.272072</td>\n",
       "      <td>1.000000</td>\n",
       "      <td>-0.716249</td>\n",
       "    </tr>\n",
       "    <tr>\n",
       "      <th>bbb_spread_change</th>\n",
       "      <td>-0.465767</td>\n",
       "      <td>-0.762702</td>\n",
       "      <td>0.385007</td>\n",
       "      <td>-0.657093</td>\n",
       "      <td>0.290414</td>\n",
       "      <td>-0.716249</td>\n",
       "      <td>1.000000</td>\n",
       "    </tr>\n",
       "  </tbody>\n",
       "</table>\n",
       "</div>"
      ],
      "text/plain": [
       "                          term_spread  stock_mkt_growth  real_gdp_growth  \\\n",
       "term_spread                  1.000000          0.002993        -0.145941   \n",
       "stock_mkt_growth             0.002993          1.000000        -0.148941   \n",
       "real_gdp_growth             -0.145941         -0.148941         1.000000   \n",
       "unemployment_rate_change     0.299972          0.461947        -0.825802   \n",
       "treasury_yield_3m           -0.633991         -0.081915         0.041596   \n",
       "bbb_spread                   0.392349          0.417379        -0.820518   \n",
       "bbb_spread_change           -0.465767         -0.762702         0.385007   \n",
       "\n",
       "                          unemployment_rate_change  treasury_yield_3m  \\\n",
       "term_spread                               0.299972          -0.633991   \n",
       "stock_mkt_growth                          0.461947          -0.081915   \n",
       "real_gdp_growth                          -0.825802           0.041596   \n",
       "unemployment_rate_change                  1.000000           0.034355   \n",
       "treasury_yield_3m                         0.034355           1.000000   \n",
       "bbb_spread                                0.881223          -0.272072   \n",
       "bbb_spread_change                        -0.657093           0.290414   \n",
       "\n",
       "                          bbb_spread  bbb_spread_change  \n",
       "term_spread                 0.392349          -0.465767  \n",
       "stock_mkt_growth            0.417379          -0.762702  \n",
       "real_gdp_growth            -0.820518           0.385007  \n",
       "unemployment_rate_change    0.881223          -0.657093  \n",
       "treasury_yield_3m          -0.272072           0.290414  \n",
       "bbb_spread                  1.000000          -0.716249  \n",
       "bbb_spread_change          -0.716249           1.000000  "
      ]
     },
     "execution_count": 10,
     "metadata": {},
     "output_type": "execute_result"
    }
   ],
   "source": [
    "# look at correlations\n",
    "df_train[MEV_cols].corr()"
   ]
  },
  {
   "cell_type": "code",
   "execution_count": 11,
   "metadata": {},
   "outputs": [
    {
     "name": "stdout",
     "output_type": "stream",
     "text": [
      "161.0\n",
      "161.0\n",
      "num_components: 19\n"
     ]
    },
    {
     "data": {
      "text/plain": [
       "['log_TA',\n",
       " 'NI_to_TA',\n",
       " 'Equity_to_TA',\n",
       " 'NPL_to_TL',\n",
       " 'REO_to_TA',\n",
       " 'ALLL_to_TL',\n",
       " 'core_deposits_to_TA',\n",
       " 'brokered_deposits_to_TA',\n",
       " 'liquid_assets_to_TA',\n",
       " 'loss_provision_to_TL',\n",
       " 'NIM',\n",
       " 'assets_growth']"
      ]
     },
     "execution_count": 11,
     "metadata": {},
     "output_type": "execute_result"
    }
   ],
   "source": [
    "print(teY[:, 0].sum())\n",
    "print(df_test.defaulter.sum())\n",
    "print('num_components: %d' % num_components)\n",
    "state_cols"
   ]
  },
  {
   "cell_type": "code",
   "execution_count": 12,
   "metadata": {
    "collapsed": true
   },
   "outputs": [],
   "source": [
    "from sklearn import neighbors, linear_model\n",
    "from sklearn.ensemble import RandomForestClassifier, GradientBoostingClassifier\n",
    "from sklearn.tree import DecisionTreeClassifier\n",
    "\n",
    "col_start = 0 # 19\n",
    "comp_to_keep = num_components"
   ]
  },
  {
   "cell_type": "code",
   "execution_count": 13,
   "metadata": {
    "collapsed": true
   },
   "outputs": [],
   "source": [
    "# Do Logistic Regression with a smaller number of predictor, based on analysis of P-values \n",
    "# for the logistic regression with a full set of variables\n",
    "\n",
    "# the original set of predictors\n",
    "# cols_to_use = state_cols + MEV_cols  \n",
    "\n",
    "# a smaller set is based on the analysis of P-values for the logistic regression\n",
    "cols_to_use = ['log_TA', 'NI_to_TA', 'Equity_to_TA', 'NPL_to_TL',\n",
    "               'core_deposits_to_TA',\n",
    "               'brokered_deposits_to_TA',\n",
    "               'liquid_assets_to_TA',\n",
    "               'FDIC_assessment_base_n'\n",
    "              ] + ['term_spread','stock_mkt_growth']\n",
    "              \n",
    "cols_to_use = state_cols + MEV_cols"
   ]
  },
  {
   "cell_type": "markdown",
   "metadata": {},
   "source": [
    "### Make corrections for downsampling\n",
    "compute the ratio \n",
    "$$r = N_{Y=0}^{\\text{sub_sampled}}/N_{Y=0}^{\\text{total}}$$"
   ]
  },
  {
   "cell_type": "code",
   "execution_count": 14,
   "metadata": {},
   "outputs": [
    {
     "name": "stdout",
     "output_type": "stream",
     "text": [
      "48.78813559322034\n",
      "47.163654288531056\n",
      "1.0344434995378278\n"
     ]
    }
   ],
   "source": [
    "# it would be more accurate to adjust for a different average number of observations for failed and non-failed banks\n",
    "# but they turn out to be almost equal, so this can be neglected:\n",
    "\n",
    "df_data['num_records'] = df_data.groupby('IDRSSD').size()\n",
    "\n",
    "# average number of observations for failed banks\n",
    "mean_num_obs_failed_banks = df_data.loc[df_data.defaulter==1,'num_records'].mean()\n",
    "mean_num_obs_nonfailed_banks = df_data.loc[df_data.defaulter==0,'num_records'].mean()\n",
    "\n",
    "ratio_av_num_steps = float(mean_num_obs_failed_banks)/mean_num_obs_nonfailed_banks\n",
    "\n",
    "print(mean_num_obs_failed_banks)\n",
    "print(mean_num_obs_nonfailed_banks)\n",
    "print(ratio_av_num_steps)"
   ]
  },
  {
   "cell_type": "markdown",
   "metadata": {},
   "source": [
    "### Receiver Operating Characteristic (ROC)\n",
    "As described in scikit-learn documentation\n",
    "http://scikit-learn.org/stable/auto_examples/model_selection/plot_roc.html :\n",
    "\n",
    "Receiver Operating Characteristic (ROC) - metric to evaluate classifier output quality.\n",
    "ROC curves typically feature true positive rate on the Y axis, and false positive rate on the X axis. This means that the top left corner of the plot is the “ideal” point - a false positive rate of zero, and a true positive rate of one. This is not very realistic, but it does mean that a larger area under the curve (AUC) is usually better.\n",
    "\n",
    "The “steepness” of ROC curves is also important, since it is ideal to maximize the true positive rate while minimizing the false positive rate."
   ]
  },
  {
   "cell_type": "markdown",
   "metadata": {},
   "source": [
    "## Decision Trees\n",
    "\n",
    "###  Decision Tree Classifier Part 1\n",
    "\n",
    "In this exercise use **DecisionTreeClassifier** from module sklearn.tree to classify banks into defaulters and non-defaulters. Use the following parameters to instantiate DecisionTreeClassifier\n",
    "\n",
    " - The maximum depth of the tree. Value = 5\n",
    " - The minimum number of samples required to split an internal node. Value = 50 (be sure to pass an integer)\n",
    " - Class weight: 'balanced'. The “balanced” mode uses the values of y to automatically adjust weights inversely proportional to class frequencies in the input data as n_samples / (n_classes * np.bincount(y))\n",
    " - Threshold for early stopping in tree growth. A node will split if its impurity is above the threshold, otherwise it is a leaf. Value = 0.1\n",
    " - The minimum weighted fraction of the sum total of weights (of all the input samples) required to be at a leaf node. Samples have equal weight when sample_weight is not provided. Value = 0.01"
   ]
  },
  {
   "cell_type": "code",
   "execution_count": 15,
   "metadata": {
    "collapsed": true
   },
   "outputs": [],
   "source": [
    "from sklearn import neighbors, linear_model\n",
    "from sklearn import metrics \n",
    "\n",
    "random_state = 1873111803\n",
    "def plot_roc(model, parameters, y_true):\n",
    "    \"\"\"\n",
    "    Arguments:\n",
    "    model - trained model such as DecisionTreeClassifier, etc.\n",
    "    parameters - array-like or sparse matrix of shape  [n_samples, n_features]. The input samples. \n",
    "    y_true - True binary labels in range {0, 1} or {-1, 1}. If labels are not binary, pos_label should be explicitly given.\n",
    "    \"\"\"\n",
    "    if model is None:\n",
    "        return 0., 0., np.array([])\n",
    "    \n",
    "    predicted = model.predict_proba(parameters)[:,1]\n",
    "    threshold = 0.5\n",
    "    predicted_binary = (predicted > threshold).astype(int)\n",
    "    \n",
    "    fpr, tpr, threshold = metrics.roc_curve(y_true, predicted, pos_label=1)\n",
    "\n",
    "    roc_auc = metrics.auc(fpr, tpr) \n",
    "    ks = np.max(tpr - fpr) # Kolmogorov-Smirnov test\n",
    "\n",
    "    print('ROC_auc = ', roc_auc)\n",
    "    print('KS_test = ', ks)\n",
    "    print('AUC score: %f ' % metrics.roc_auc_score(y_true, predicted)) \n",
    "\n",
    "    try:\n",
    "        plt.title('%s ROC curve ' % model.__class__.__name__)\n",
    "        plt.plot(fpr, tpr, 'b', label='AUC = %0.2f' % roc_auc)\n",
    "        plt.legend(loc='lower right')\n",
    "        plt.plot([0,1], [0,1], 'r--')\n",
    "        plt.xlabel('False positive rate')\n",
    "        plt.ylabel('True positive rate')\n",
    "\n",
    "        # plt.savefig('ROC_curve.png')\n",
    "        plt.show()\n",
    "    except: pass\n",
    "    return roc_auc, ks, threshold\n",
    "\n",
    "roc_auc = 0. \n",
    "ks = 0.\n",
    "single_tree = None\n",
    "### START CODE HERE ### (≈ 5-8 lines of code)\n",
    "# Instantiate Decision Tree Classifier and fit the model\n",
    "# Reference Decision Tree Classifier model using single_tree variable\n",
    "# Use cols_to_use attributes from df_train data set. Labels are in column defaulter\n",
    "\n",
    "\n",
    "### END CODE HERE ###\n",
    "\n",
    "if single_tree is not None:\n",
    "    # threshold : Decreasing thresholds on the decision function used to compute fpr and tpr. thresholds[0] \n",
    "    # represents no instances being predicted and is arbitrarily set to max(y_score) + 1.\n",
    "    single_tree.fit(df_train[cols_to_use].values, df_train.defaulter)\n",
    "    \n",
    "roc_auc, ks, threshold = plot_roc(single_tree, df_test[cols_to_use], df_test.defaulter)"
   ]
  },
  {
   "cell_type": "code",
   "execution_count": 16,
   "metadata": {},
   "outputs": [
    {
     "data": {
      "text/plain": [
       "[0.0, 0.0]"
      ]
     },
     "execution_count": 16,
     "metadata": {},
     "output_type": "execute_result"
    }
   ],
   "source": [
    "### GRADED PART (DO NOT EDIT) ###\n",
    "part_1 = np.array([roc_auc, ks]).squeeze()\n",
    "try:\n",
    "    part1 = \" \".join(map(repr, part_1))\n",
    "except TypeError:\n",
    "    part1 = repr(part_1)\n",
    "submissions[all_parts[0]]=part1\n",
    "grading.submit(COURSERA_EMAIL, COURSERA_TOKEN, assignment_key,all_parts[:1],all_parts,submissions)\n",
    "[roc_auc, ks]\n",
    "### GRADED PART (DO NOT EDIT) ###"
   ]
  },
  {
   "cell_type": "markdown",
   "metadata": {},
   "source": [
    "###  Decision Tree Classifier Part 2\n",
    "Now using DecisionTreeClassifier and the same predictors of bank failure we will predict bank failure within the first year."
   ]
  },
  {
   "cell_type": "code",
   "execution_count": 17,
   "metadata": {
    "collapsed": true
   },
   "outputs": [],
   "source": [
    "if single_tree is not None:\n",
    "    single_tree.fit(df_train[cols_to_use].values, df_train.default_within_1Y)\n",
    "roc_auc, ks, threshold = plot_roc(single_tree, df_test[cols_to_use], df_test.default_within_1Y)"
   ]
  },
  {
   "cell_type": "code",
   "execution_count": 18,
   "metadata": {},
   "outputs": [
    {
     "data": {
      "text/plain": [
       "[0.0, 0.0]"
      ]
     },
     "execution_count": 18,
     "metadata": {},
     "output_type": "execute_result"
    }
   ],
   "source": [
    "### GRADED PART (DO NOT EDIT) ###\n",
    "part_2 = np.array([roc_auc, ks]).squeeze()\n",
    "try:\n",
    "    part2 = \" \".join(map(repr, part_2))\n",
    "except TypeError:\n",
    "    part2 = repr(part_2)\n",
    "submissions[all_parts[1]]=part2\n",
    "grading.submit(COURSERA_EMAIL, COURSERA_TOKEN, assignment_key,all_parts[:2],all_parts,submissions)\n",
    "[roc_auc, ks]\n",
    "### GRADED PART (DO NOT EDIT) ###"
   ]
  },
  {
   "cell_type": "markdown",
   "metadata": {},
   "source": [
    "### Random Forests\n",
    "\n",
    "### Random Forests Part 3\n",
    "As defined by http://scikit-learn.org/stable/modules/ensemble.html:\n",
    "\n",
    "In random forests (see RandomForestClassifier and RandomForestRegressor classes), each tree in the ensemble is built from a sample drawn with replacement (i.e., a bootstrap sample) from the training set. In addition, when splitting a node during the construction of the tree, the split that is chosen is no longer the best split among all features. Instead, the split that is picked is the best split among a random subset of the features. As a result of this randomness, the bias of the forest usually slightly increases (with respect to the bias of a single non-random tree) but, due to averaging, its variance also decreases, usually more than compensating for the increase in bias, hence yielding an overall better model.\n",
    "\n",
    "Use the following parameters to instantiate **RandomForestClassifier**:\n",
    "\n",
    "- The number of features to consider when looking for the best split. Value = 0.5\n",
    "- The number of trees in the forest. Value = 1000\n",
    "- The maximum depth of the tree. Value = 5"
   ]
  },
  {
   "cell_type": "code",
   "execution_count": 20,
   "metadata": {
    "collapsed": true
   },
   "outputs": [],
   "source": [
    "from sklearn.ensemble import RandomForestClassifier\n",
    "\n",
    "clf  = None\n",
    " ### START CODE HERE ### (≈ 2 lines of code) \n",
    "# instantiate Random Forest Classifier\n",
    "# reference Random Forest Classifier model using clf variable\n",
    "# ... please set random_state=42 in a random forest classifier of sklearn\n",
    "\n",
    "### END CODE HERE ###\n",
    "\n",
    "# use all columns for this examples, including marcro economic variables\n",
    "cols_to_use = state_cols[:-1] + MEV_cols  \n",
    "if clf is not None:\n",
    "    clf.fit(df_train[cols_to_use].values, df_train.defaulter)\n",
    "roc_auc, ks, threshold = plot_roc(clf, df_test[cols_to_use], df_test.defaulter)"
   ]
  },
  {
   "cell_type": "code",
   "execution_count": 21,
   "metadata": {},
   "outputs": [
    {
     "data": {
      "text/plain": [
       "[0.0, 0.0]"
      ]
     },
     "execution_count": 21,
     "metadata": {},
     "output_type": "execute_result"
    }
   ],
   "source": [
    "### GRADED PART (DO NOT EDIT) ###\n",
    "part_3 = np.array([roc_auc, ks]).squeeze()\n",
    "try:\n",
    "    part3 = \" \".join(map(repr, part_3))\n",
    "except TypeError:\n",
    "    part3 = repr(part_3)\n",
    "submissions[all_parts[2]]=part3\n",
    "grading.submit(COURSERA_EMAIL, COURSERA_TOKEN, assignment_key,all_parts[:3],all_parts,submissions)\n",
    "[roc_auc, ks]\n",
    "### GRADED PART (DO NOT EDIT) ###"
   ]
  },
  {
   "cell_type": "markdown",
   "metadata": {},
   "source": [
    "### Feature importance from random forest"
   ]
  },
  {
   "cell_type": "code",
   "execution_count": 22,
   "metadata": {
    "collapsed": true
   },
   "outputs": [],
   "source": [
    "importance = []\n",
    "if clf is not None:\n",
    "    importance = clf.feature_importances_\n",
    "    importance = pd.DataFrame(importance, index=df_train[cols_to_use].columns, \n",
    "                              columns=[\"Importance\"])\n",
    "\n",
    "    importance[\"Std\"] = np.std([tree.feature_importances_\n",
    "                                for tree in clf.estimators_], axis=0)\n",
    "\n",
    "    x = range(importance.shape[0])\n",
    "    y = importance.iloc[:, 0] \n",
    "    yerr = importance.iloc[:, 1] \n",
    "\n",
    "    plt.bar(x, y, yerr=yerr, align=\"center\")\n",
    "    plt.xlabel('features')\n",
    "    plt.ylabel('Feature importance')\n",
    "    plt.title('Importance of different features')\n",
    "    plt.show()"
   ]
  },
  {
   "cell_type": "code",
   "execution_count": 23,
   "metadata": {},
   "outputs": [
    {
     "data": {
      "text/plain": [
       "[]"
      ]
     },
     "execution_count": 23,
     "metadata": {},
     "output_type": "execute_result"
    }
   ],
   "source": [
    "importance"
   ]
  },
  {
   "cell_type": "markdown",
   "metadata": {},
   "source": [
    "### Visualize decision trees as binary tree"
   ]
  },
  {
   "cell_type": "code",
   "execution_count": 24,
   "metadata": {
    "collapsed": true
   },
   "outputs": [],
   "source": [
    "# plot the tree\n",
    "from sklearn.externals.six import StringIO\n",
    "from sklearn import tree\n",
    "import pydot\n",
    "\n",
    "if clf is not None:\n",
    "    try:\n",
    "        dot_data = StringIO()\n",
    "        tree_estimator = clf.estimators_[0]\n",
    "        tree.export_graphviz(single_tree.tree_, out_file=dot_data,\n",
    "                            feature_names=cols_to_use,\n",
    "                            proportion=True,\n",
    "                            max_depth=4)\n",
    "\n",
    "        graph = pydot.graph_from_dot_data(dot_data.getvalue())\n",
    "        # help(graph[0])\n",
    "\n",
    "        from IPython.display import Image, display\n",
    "\n",
    "        def viewPydot(pdot):\n",
    "            plt = Image(pdot.create_png())\n",
    "            display(plt)\n",
    "\n",
    "        viewPydot(graph[0])\n",
    "        # do not write graph to disk, instead write it to the screen\n",
    "        # dependencies on OS X: brew install graphviz\n",
    "        # dependencies on Ubuntu: sudo apt-get install graphviz\n",
    "        # graph[0].write_png('single_tree_graph' + '.png')\n",
    "    except: pass"
   ]
  },
  {
   "cell_type": "markdown",
   "metadata": {},
   "source": [
    "## Boosted tree\n",
    "\n",
    "### Part 4\n",
    "As per http://scikit-learn.org/stable/modules/generated/sklearn.ensemble.GradientBoostingClassifier.html:\n",
    "\n",
    "GradientBoostingClassifier builds an additive model in a forward stage-wise fashion; it allows for the optimization of arbitrary differentiable loss functions. In each stage n_classes_ regression trees are fit on the negative gradient of the binomial or multinomial deviance loss function. Binary classification is a special case where only a single regression tree is induced.\n",
    "\n",
    "Use the following parameters to instantiate **GradientBoostingClassifier**:\n",
    "\n",
    "- The minimum number of samples required to split an internal node. Value = 5\n",
    "- The number of boosting stages to perform. Gradient boosting is fairly robust to over-fitting so a large number usually results in better performance. Value = 500\n",
    "- Learning rate. Learning rate shrinks the contribution of each tree by learning_rate. There is a trade-off between learning rate and number of boosting stages to perform. Value = 0.05\n",
    "- The maximum depth of the tree. Value = 4\n",
    "- The number of features to consider when looking for the best split. Value = 1.0 (be sure to use float). If float, then max features is a percentage and int(max_features * n_features) features are considered at each split.\n",
    "- random state (be sure to provide and int)"
   ]
  },
  {
   "cell_type": "code",
   "execution_count": 25,
   "metadata": {
    "collapsed": true
   },
   "outputs": [],
   "source": [
    "gbt = None\n",
    "roc_auc = 0.\n",
    "ks = 0.\n",
    "### START CODE HERE ### (≈ 7 lines of code)\n",
    "# ... please set random_state=42 in a random forest classifier of sklearn\n",
    "\n",
    "### END CODE HERE ###\n",
    "if gbt is not None:\n",
    "    gbt.fit(df_train[cols_to_use].values,df_train.defaulter)\n",
    "    roc_auc, ks, threshold = plot_roc(gbt, df_test[cols_to_use], df_test.defaulter)"
   ]
  },
  {
   "cell_type": "code",
   "execution_count": 26,
   "metadata": {},
   "outputs": [
    {
     "data": {
      "text/plain": [
       "[0.0, 0.0]"
      ]
     },
     "execution_count": 26,
     "metadata": {},
     "output_type": "execute_result"
    }
   ],
   "source": [
    "### GRADED PART (DO NOT EDIT) ###\n",
    "part_4 = np.array([roc_auc, ks]).squeeze()\n",
    "try:\n",
    "    part4 = \" \".join(map(repr, part_4))\n",
    "except TypeError:\n",
    "    part4 = repr(part_4)\n",
    "submissions[all_parts[3]]=part4\n",
    "grading.submit(COURSERA_EMAIL, COURSERA_TOKEN, assignment_key,all_parts[:4],all_parts,submissions)\n",
    "[roc_auc, ks]\n",
    "### GRADED PART (DO NOT EDIT) ###"
   ]
  },
  {
   "cell_type": "code",
   "execution_count": 27,
   "metadata": {
    "collapsed": true
   },
   "outputs": [],
   "source": [
    "roc_auc = 0.\n",
    "ks = 0.\n",
    "if gbt is not None:\n",
    "    gbt.fit(df_train[cols_to_use].values, df_train.default_within_1Y)\n",
    "    roc_auc, ks, threshold = plot_roc(gbt, df_test[cols_to_use], df_test.default_within_1Y)"
   ]
  },
  {
   "cell_type": "code",
   "execution_count": 28,
   "metadata": {},
   "outputs": [
    {
     "data": {
      "text/plain": [
       "[0.0, 0.0]"
      ]
     },
     "execution_count": 28,
     "metadata": {},
     "output_type": "execute_result"
    }
   ],
   "source": [
    "### GRADED PART (DO NOT EDIT) ###\n",
    "part_5 = np.array([roc_auc, ks]).squeeze()\n",
    "try:\n",
    "    part5 = \" \".join(map(repr, part_5))\n",
    "except TypeError:\n",
    "    part5 = repr(part_5)\n",
    "submissions[all_parts[4]]=part5\n",
    "grading.submit(COURSERA_EMAIL, COURSERA_TOKEN, assignment_key,all_parts[:5],all_parts,submissions)\n",
    "[roc_auc, ks]\n",
    "### GRADED PART (DO NOT EDIT) ###"
   ]
  }
 ],
 "metadata": {
  "anaconda-cloud": {},
  "coursera": {
   "course_slug": "machine-learning-in-finance"
  },
  "kernelspec": {
   "display_name": "Python 3",
   "language": "python",
   "name": "python3"
  },
  "language_info": {
   "codemirror_mode": {
    "name": "ipython",
    "version": 3
   },
   "file_extension": ".py",
   "mimetype": "text/x-python",
   "name": "python",
   "nbconvert_exporter": "python",
   "pygments_lexer": "ipython3",
   "version": "3.6.0"
  }
 },
 "nbformat": 4,
 "nbformat_minor": 1
}
